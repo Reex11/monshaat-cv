{
 "cells": [
  {
   "cell_type": "markdown",
   "metadata": {},
   "source": [
    "# Innovation Center Booth Analyser\n",
    "This is a project created by the innovation center team at Monshaat as a demo to the AI capabilities as one of the rising technologies the center focuses on.\n"
   ]
  },
  {
   "cell_type": "code",
   "execution_count": null,
   "metadata": {
    "vscode": {
     "languageId": "shellscript"
    }
   },
   "outputs": [],
   "source": [
    "!pip install ultralytics\n",
    "!pip install opencv-python"
   ]
  },
  {
   "cell_type": "markdown",
   "metadata": {},
   "source": [
    "## Camera Test"
   ]
  },
  {
   "cell_type": "code",
   "execution_count": 1,
   "metadata": {},
   "outputs": [
    {
     "name": "stdout",
     "output_type": "stream",
     "text": [
      "Available cameras: []\n"
     ]
    },
    {
     "name": "stderr",
     "output_type": "stream",
     "text": [
      "[ WARN:0@0.035] global cap_v4l.cpp:999 open VIDEOIO(V4L2:/dev/video0): can't open camera by index\n",
      "[ERROR:0@0.037] global obsensor_uvc_stream_channel.cpp:158 getStreamChannelGroup Camera index out of range\n"
     ]
    }
   ],
   "source": [
    "import cv2\n",
    "\n",
    "# Function to check available cameras\n",
    "def check_cameras():\n",
    "    index = 0\n",
    "    arr = []\n",
    "    while True:\n",
    "        cap = cv2.VideoCapture(index)\n",
    "        cap.set(cv2.CAP_PROP_FOURCC, cv2.VideoWriter_fourcc('M', 'J', 'P', 'G'))\n",
    "\n",
    "        if not cap.read()[0]:\n",
    "            cap.release()  # Ensure the camera is released\n",
    "            break\n",
    "        else:\n",
    "            arr.append(index)\n",
    "        cap.release()\n",
    "        index += 1\n",
    "    return arr\n",
    "\n",
    "available_cameras = check_cameras()\n",
    "print(f\"Available cameras: {available_cameras}\")"
   ]
  },
  {
   "cell_type": "code",
   "execution_count": 3,
   "metadata": {},
   "outputs": [
    {
     "name": "stdout",
     "output_type": "stream",
     "text": [
      "Camera opened successfully\n"
     ]
    }
   ],
   "source": [
    "\n",
    "import cv2\n",
    "import time\n",
    "\n",
    "# Open the first available camera (video0)\n",
    "cap = cv2.VideoCapture(0)\n",
    "cap.set(cv2.CAP_PROP_FOURCC, cv2.VideoWriter_fourcc('M', 'J', 'P', 'G'))\n",
    "\n",
    "\n",
    "if not cap.isOpened():\n",
    "    print(\"Cannot open camera\")\n",
    "else:\n",
    "    print(\"Camera opened successfully\")\n",
    "    start_time = time.time()\n",
    "    while True:\n",
    "        ret, frame = cap.read()\n",
    "        if not ret:\n",
    "            print(\"Can't receive frame (stream end?). Exiting ...\")\n",
    "            break\n",
    "        # Display the resulting frame\n",
    "        cv2.imshow('Camera Test', frame)\n",
    "        if cv2.waitKey(1) == ord('q') or (time.time() - start_time) > 20:\n",
    "            break\n",
    "\n",
    "    # Release the capture\n",
    "    cap.release()\n",
    "    cv2.destroyAllWindows()"
   ]
  },
  {
   "cell_type": "markdown",
   "metadata": {},
   "source": [
    "# Functions"
   ]
  },
  {
   "cell_type": "markdown",
   "metadata": {},
   "source": [
    "### Get Camera"
   ]
  },
  {
   "cell_type": "code",
   "execution_count": 4,
   "metadata": {},
   "outputs": [],
   "source": [
    "import cv2\n",
    "def getCamera(id):\n",
    "    cap = cv2.VideoCapture(id)\n",
    "    cap.set(cv2.CAP_PROP_FOURCC, cv2.VideoWriter_fourcc('M', 'J', 'P', 'G'))\n",
    "    return cap\n",
    "\n",
    "def getVideo(path):\n",
    "    cap = cv2.VideoCapture(path)\n",
    "    assert cap.isOpened(), \"Cannot open video\"\n",
    "    w, h, fps = (int(cap.get(x)) for x in (cv2.CAP_PROP_FRAME_WIDTH, cv2.CAP_PROP_FRAME_HEIGHT, cv2.CAP_PROP_FPS))\n",
    "    video_writer = cv2.VideoWriter(f'output_{extract_filename(path)}.avi', cv2.VideoWriter_fourcc(*\"mp4v\"), fps, (w, h))\n",
    "    return cap, video_writer\n",
    "\n",
    "def extract_filename(path):\n",
    "    # extract the filename without the path and extension\n",
    "    return path.split('/')[-1].split('.')[0]"
   ]
  },
  {
   "cell_type": "code",
   "execution_count": 12,
   "metadata": {},
   "outputs": [
    {
     "name": "stdout",
     "output_type": "stream",
     "text": [
      "Ultralytics Solutions: ✅ {'model': 'yolo11n.pt', 'region': None, 'line_width': 2, 'show': False, 'show_in': True, 'show_out': True, 'classes': None, 'up_angle': 145.0, 'down_angle': 90, 'kpts': [6, 8, 10], 'colormap': 20}\n"
     ]
    }
   ],
   "source": [
    "from ultralytics import solutions, YOLO\n",
    "\n",
    "yolo = YOLO('yolo11n')\n",
    "model = \"yolo11n.pt\"\n",
    "\n",
    "from heatmapper import Heatmap\n",
    "heatmap = Heatmap(colormap=cv2.COLORMAP_TURBO, show=False, model=model)\n",
    "\n"
   ]
  },
  {
   "cell_type": "code",
   "execution_count": 7,
   "metadata": {},
   "outputs": [
    {
     "name": "stdout",
     "output_type": "stream",
     "text": [
      "Ultralytics Solutions: ✅ {'model': 'yolo11n.pt', 'region': [(400, 400), (1200, 400)], 'line_width': 2, 'show': False, 'show_in': True, 'show_out': True, 'classes': None, 'up_angle': 145.0, 'down_angle': 90, 'kpts': [6, 8, 10], 'colormap': None}\n"
     ]
    }
   ],
   "source": [
    "\n",
    "# region box from 90,200 to 200,400    \n",
    "region = [(400,400),(1200,400)]\n",
    "\n",
    "counter = solutions.ObjectCounter(\n",
    "    model='yolo11n.pt',\n",
    "    show=False,\n",
    "    region=region,\n",
    ")\n"
   ]
  },
  {
   "cell_type": "code",
   "execution_count": 8,
   "metadata": {},
   "outputs": [
    {
     "name": "stdout",
     "output_type": "stream",
     "text": [
      "Ultralytics Solutions: ✅ {'model': 'yolo11n.pt', 'region': [(400, 500), (400, 0)], 'line_width': 2, 'show': False, 'show_in': True, 'show_out': True, 'classes': None, 'up_angle': 145.0, 'down_angle': 90, 'kpts': [6, 8, 10], 'colormap': None}\n"
     ]
    }
   ],
   "source": [
    "\n",
    "# region box from 90,200 to 200,400    \n",
    "region = [(400,500),(400,0)]\n",
    "\n",
    "counter = solutions.ObjectCounter(\n",
    "    model='yolo11n.pt',\n",
    "    show=False,\n",
    "    region=region,\n",
    ")\n"
   ]
  },
  {
   "cell_type": "code",
   "execution_count": 14,
   "metadata": {},
   "outputs": [
    {
     "name": "stderr",
     "output_type": "stream",
     "text": [
      "[ WARN:0@65823.888] global cap_v4l.cpp:999 open VIDEOIO(V4L2:/dev/video0): can't open camera by index\n",
      "[ERROR:0@65823.923] global obsensor_uvc_stream_channel.cpp:158 getStreamChannelGroup Camera index out of range\n"
     ]
    }
   ],
   "source": [
    "###\n",
    "cap = getCamera(0)\n",
    "\n",
    "i = 0\n",
    "while cap.isOpened():\n",
    "    \n",
    "    success, im0 = cap.read()\n",
    "    if not success:\n",
    "        break\n",
    "\n",
    "    # track objects in the frame\n",
    "    results = yolo.track(im0)\n",
    "    annotated_img = results[0].plot()\n",
    "\n",
    "    # generate heatmap every 10 frames\n",
    "    if i % 5 == 0:\n",
    "        heatmapImg = heatmap.generate_heatmap(im0)\n",
    "    \n",
    "    annotated_img = counter.count(im0)\n",
    "    # merge the heatmap with the original image\n",
    "    im1 = cv2.addWeighted(annotated_img, 1, heatmapImg, 0.8, 0)\n",
    "    \n",
    "    cv2.imshow(\"Heatmap\", im1)\n",
    "\n",
    "    if cv2.waitKey(1) == ord('q'):\n",
    "        break\n",
    "    i += 1\n",
    "\n",
    "cap.release()\n",
    "cv2.destroyAllWindows()"
   ]
  },
  {
   "cell_type": "code",
   "execution_count": null,
   "metadata": {},
   "outputs": [],
   "source": [
    "cap, video_writer = getVideo(\"v.mp4\")\n",
    "\n",
    "annotated_img = None\n",
    "heatmapImg = None  \n",
    "\n",
    "i = 0\n",
    "while cap.isOpened():\n",
    "    \n",
    "    success, im0 = cap.read()\n",
    "    if not success:\n",
    "        break\n",
    "\n",
    "\n",
    "##\n",
    "    # track objects in the frame\n",
    "    results = yolo.track(im0)\n",
    "    annotated_img = results[0].plot()\n",
    "\n",
    "    # generate heatmap every 10 frames\n",
    "    if i % 10 == 0:\n",
    "        heatmapImg = heatmap.generate_heatmap(im0)\n",
    "    \n",
    "    annotated_img = counter.count(im0)\n",
    "    # merge the heatmap with the original image\n",
    "    im1 = cv2.addWeighted(annotated_img, 1, heatmapImg, 0.5, 0)\n",
    "    \n",
    "##\n",
    "\n",
    "    video_writer.write(im1)\n",
    "\n",
    "    if cv2.waitKey(1) == ord('q') or i > 200:\n",
    "        break\n",
    "    \n",
    "    i += 1\n",
    "\n",
    "cap.release()\n",
    "cv2.destroyAllWindows()"
   ]
  },
  {
   "cell_type": "code",
   "execution_count": 18,
   "metadata": {},
   "outputs": [
    {
     "name": "stderr",
     "output_type": "stream",
     "text": [
      "[ WARN:0@27535.533] global cap_v4l.cpp:999 open VIDEOIO(V4L2:/dev/video0): can't open camera by index\n",
      "[ERROR:0@27535.533] global obsensor_uvc_stream_channel.cpp:158 getStreamChannelGroup Camera index out of range\n"
     ]
    },
    {
     "ename": "error",
     "evalue": "OpenCV(4.10.0) /io/opencv/modules/highgui/src/window.cpp:973: error: (-215:Assertion failed) size.width>0 && size.height>0 in function 'imshow'\n",
     "output_type": "error",
     "traceback": [
      "\u001b[0;31m---------------------------------------------------------------------------\u001b[0m",
      "\u001b[0;31merror\u001b[0m                                     Traceback (most recent call last)",
      "Cell \u001b[0;32mIn[18], line 21\u001b[0m\n\u001b[1;32m     18\u001b[0m out\u001b[38;5;241m.\u001b[39mwrite(frame)\n\u001b[1;32m     20\u001b[0m \u001b[38;5;66;03m# Display the captured frame\u001b[39;00m\n\u001b[0;32m---> 21\u001b[0m \u001b[43mcv2\u001b[49m\u001b[38;5;241;43m.\u001b[39;49m\u001b[43mimshow\u001b[49m\u001b[43m(\u001b[49m\u001b[38;5;124;43m'\u001b[39;49m\u001b[38;5;124;43mCamera\u001b[39;49m\u001b[38;5;124;43m'\u001b[39;49m\u001b[43m,\u001b[49m\u001b[43m \u001b[49m\u001b[43mframe\u001b[49m\u001b[43m)\u001b[49m\n\u001b[1;32m     23\u001b[0m \u001b[38;5;66;03m# Press 'q' to exit the loop\u001b[39;00m\n\u001b[1;32m     24\u001b[0m \u001b[38;5;28;01mif\u001b[39;00m cv2\u001b[38;5;241m.\u001b[39mwaitKey(\u001b[38;5;241m1\u001b[39m) \u001b[38;5;241m==\u001b[39m \u001b[38;5;28mord\u001b[39m(\u001b[38;5;124m'\u001b[39m\u001b[38;5;124mq\u001b[39m\u001b[38;5;124m'\u001b[39m):\n",
      "\u001b[0;31merror\u001b[0m: OpenCV(4.10.0) /io/opencv/modules/highgui/src/window.cpp:973: error: (-215:Assertion failed) size.width>0 && size.height>0 in function 'imshow'\n"
     ]
    }
   ],
   "source": [
    "import cv2\n",
    "\n",
    "# Open the default camera\n",
    "cam = cv2.VideoCapture(0)\n",
    "\n",
    "# Get the default frame width and height\n",
    "frame_width = int(cam.get(cv2.CAP_PROP_FRAME_WIDTH))\n",
    "frame_height = int(cam.get(cv2.CAP_PROP_FRAME_HEIGHT))\n",
    "\n",
    "# Define the codec and create VideoWriter object\n",
    "fourcc = cv2.VideoWriter_fourcc(*'mp4v')\n",
    "out = cv2.VideoWriter('output.mp4', fourcc, 20.0, (frame_width, frame_height))\n",
    "\n",
    "while True:\n",
    "    ret, frame = cam.read()\n",
    "\n",
    "    # Write the frame to the output file\n",
    "    out.write(frame)\n",
    "\n",
    "    # Display the captured frame\n",
    "    cv2.imshow('Camera', frame)\n",
    "\n",
    "    # Press 'q' to exit the loop\n",
    "    if cv2.waitKey(1) == ord('q'):\n",
    "        break\n",
    "\n",
    "# Release the capture and writer objects\n",
    "cam.release()\n",
    "out.release()\n",
    "cv2.destroyAllWindows()"
   ]
  }
 ],
 "metadata": {
  "kernelspec": {
   "display_name": "opencv9",
   "language": "python",
   "name": "python3"
  },
  "language_info": {
   "codemirror_mode": {
    "name": "ipython",
    "version": 3
   },
   "file_extension": ".py",
   "mimetype": "text/x-python",
   "name": "python",
   "nbconvert_exporter": "python",
   "pygments_lexer": "ipython3",
   "version": "3.10.15"
  }
 },
 "nbformat": 4,
 "nbformat_minor": 2
}
